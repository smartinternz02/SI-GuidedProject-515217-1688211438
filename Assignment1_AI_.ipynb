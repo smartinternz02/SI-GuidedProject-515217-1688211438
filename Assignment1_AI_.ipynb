{
  "nbformat": 4,
  "nbformat_minor": 0,
  "metadata": {
    "colab": {
      "provenance": []
    },
    "kernelspec": {
      "name": "python3",
      "display_name": "Python 3"
    },
    "language_info": {
      "name": "python"
    }
  },
  "cells": [
    {
      "cell_type": "code",
      "execution_count": 3,
      "metadata": {
        "colab": {
          "base_uri": "https://localhost:8080/"
        },
        "id": "nxc5ebeQNklc",
        "outputId": "266153ef-b4fb-4bf2-a021-ce5f9b9973f0"
      },
      "outputs": [
        {
          "output_type": "stream",
          "name": "stdout",
          "text": [
            "   Feature1  Feature2  Feature3  Feature4\n",
            "0  0.374540  0.156019  0.601115  0.832443\n",
            "1  0.950714  0.155995  0.708073  0.212339\n",
            "2  0.731994  0.058084  0.020584  0.181825\n",
            "3  0.598658  0.866176  0.969910  0.183405\n"
          ]
        }
      ],
      "source": [
        "import pandas as pd\n",
        "import numpy as np\n",
        "# Mudit Dhoundiyal\n",
        "# 20BIT0411 \n",
        "# 1) Create a pandas dataframe (DataFrame name as 'df') with numpy random values (4 features and 4 observation)\n",
        "np.random.seed(42)\n",
        "data = {\n",
        "    'Feature1': np.random.rand(4),\n",
        "    'Feature2': np.random.rand(4),\n",
        "    'Feature3': np.random.rand(4),\n",
        "    'Feature4': np.random.rand(4)\n",
        "}\n",
        "\n",
        "df = pd.DataFrame(data)\n",
        "\n",
        "print(df)"
      ]
    },
    {
      "cell_type": "code",
      "source": [
        "# 2) Rename the task - 1 'df' dataframe column names to 'Random value 1', 'Random value 2', 'Random value 3' & 'Random value 4'\n",
        "df = df.rename(columns={\n",
        "    'Feature1': 'random value 1',\n",
        "    'Feature2': 'random value 2',\n",
        "    'Feature3': 'random value 3',\n",
        "    'Feature4': 'random value 4'\n",
        "})\n",
        "print(df)"
      ],
      "metadata": {
        "colab": {
          "base_uri": "https://localhost:8080/"
        },
        "id": "pQYTdy83OD0E",
        "outputId": "45b28d70-423e-4a74-c702-20070cb0160a"
      },
      "execution_count": 4,
      "outputs": [
        {
          "output_type": "stream",
          "name": "stdout",
          "text": [
            "   random value 1  random value 2  random value 3  random value 4\n",
            "0        0.374540        0.156019        0.601115        0.832443\n",
            "1        0.950714        0.155995        0.708073        0.212339\n",
            "2        0.731994        0.058084        0.020584        0.181825\n",
            "3        0.598658        0.866176        0.969910        0.183405\n"
          ]
        }
      ]
    },
    {
      "cell_type": "code",
      "source": [
        "# 3) Find the descriptive statistics of the 'df' dataframe.\n",
        "statistics = df.describe()\n",
        "\n",
        "print(statistics)"
      ],
      "metadata": {
        "colab": {
          "base_uri": "https://localhost:8080/"
        },
        "id": "wAi98c0GO5NB",
        "outputId": "4c319fff-be3b-4c60-e0d8-c40fca158868"
      },
      "execution_count": 5,
      "outputs": [
        {
          "output_type": "stream",
          "name": "stdout",
          "text": [
            "       random value 1  random value 2  random value 3  random value 4\n",
            "count        4.000000        4.000000        4.000000        4.000000\n",
            "mean         0.663977        0.309068        0.574920        0.352503\n",
            "std          0.241443        0.374263        0.400716        0.320267\n",
            "min          0.374540        0.058084        0.020584        0.181825\n",
            "25%          0.542629        0.131517        0.455982        0.183010\n",
            "50%          0.665326        0.156007        0.654594        0.197872\n",
            "75%          0.786674        0.333558        0.773532        0.367365\n",
            "max          0.950714        0.866176        0.969910        0.832443\n"
          ]
        }
      ]
    },
    {
      "cell_type": "code",
      "source": [
        "# 4) Check for the null values in 'df' and find the data type of the columns.\n",
        "null_values = df.isnull().sum()\n",
        "data_types = df.dtypes\n",
        "print(\"Null Values:\\n\", null_values)\n",
        "print(\"\\nData Types:\\n\", data_types)"
      ],
      "metadata": {
        "colab": {
          "base_uri": "https://localhost:8080/"
        },
        "id": "-a6iyypSPS7Q",
        "outputId": "9dfa011e-e0ab-4d10-accc-a1c3bdf85df7"
      },
      "execution_count": 6,
      "outputs": [
        {
          "output_type": "stream",
          "name": "stdout",
          "text": [
            "Null Values:\n",
            " random value 1    0\n",
            "random value 2    0\n",
            "random value 3    0\n",
            "random value 4    0\n",
            "dtype: int64\n",
            "\n",
            "Data Types:\n",
            " random value 1    float64\n",
            "random value 2    float64\n",
            "random value 3    float64\n",
            "random value 4    float64\n",
            "dtype: object\n"
          ]
        }
      ]
    },
    {
      "cell_type": "code",
      "source": [
        "# 5) Display the 'Random value 2' & 'Random value 3' columns with location method and index location method.\n",
        "location_method_columns = df.loc[:, ['random value 2', 'random value 3']]\n",
        "print(\"Location Method:\")\n",
        "print(location_method_columns)\n",
        "index_location_method_columns = df.iloc[:, [1, 2]]\n",
        "print(\"\\nIndex Location Method:\")\n",
        "print(index_location_method_columns)"
      ],
      "metadata": {
        "colab": {
          "base_uri": "https://localhost:8080/"
        },
        "id": "FRRu1VgyPahW",
        "outputId": "f0df47ed-1f0e-46bc-f254-dba4e77fcb59"
      },
      "execution_count": 8,
      "outputs": [
        {
          "output_type": "stream",
          "name": "stdout",
          "text": [
            "Location Method:\n",
            "   random value 2  random value 3\n",
            "0        0.156019        0.601115\n",
            "1        0.155995        0.708073\n",
            "2        0.058084        0.020584\n",
            "3        0.866176        0.969910\n",
            "\n",
            "Index Location Method:\n",
            "   random value 2  random value 3\n",
            "0        0.156019        0.601115\n",
            "1        0.155995        0.708073\n",
            "2        0.058084        0.020584\n",
            "3        0.866176        0.969910\n"
          ]
        }
      ]
    }
  ]
}